{
 "cells": [
  {
   "cell_type": "code",
   "execution_count": 1,
   "id": "66dfb688",
   "metadata": {},
   "outputs": [
    {
     "name": "stdout",
     "output_type": "stream",
     "text": [
      "Type of vehicle :suv\n",
      "Enter the year :03\n",
      "Enter who manufacture :GMC\n",
      "Enter the model :9273431\n",
      "Enter the number of doors(2 or 4) :4\n",
      "solid or sun roof :sun\n",
      "\n",
      "Vehicle Type :suv\n",
      "\n",
      "Year :03\n",
      "\n",
      "Make :GMC\n",
      "\n",
      "Model :9273431\n",
      "\n",
      "No of doors :4\n",
      "\n",
      "Type of roof :sun\n"
     ]
    }
   ],
   "source": [
    "class Vehicle:\n",
    "    def __init__(self,type):   \n",
    "        self.type=type \n",
    "        \n",
    "class Automobile(Vehicle):\n",
    "    def __init__(self,type,year,make,model,doors,roof):\n",
    "        super().__init__(type) #super function is called to invoke vehicle class constructor\n",
    "        self.year=year\n",
    "        self.make=make\n",
    "        self.model=model\n",
    "        self.doors=doors\n",
    "        self.roof=roof\n",
    "\n",
    "type_i=input(\"Type of vehicle :\")\n",
    "year_i=input(\"Enter the year :\")\n",
    "make_i=input(\"Enter who manufacture :\")\n",
    "model_i=input(\"Enter the model :\")\n",
    "doors_i=input(\"Enter the number of doors(2 or 4) :\")\n",
    "roof_i=input(\"solid or sun roof :\")\n",
    "A=Automobile(type_i,year_i,make_i,model_i,doors_i,roof_i) \n",
    "\n",
    "print(\"\\nVehicle Type :\"+A.type)\n",
    "print(\"\\nYear :\"+A.year)\n",
    "print(\"\\nMake :\"+A.make)\n",
    "print(\"\\nModel :\"+A.model)\n",
    "print(\"\\nNo of doors :\"+A.doors)\n",
    "print(\"\\nType of roof :\"+A.roof)"
   ]
  },
  {
   "cell_type": "code",
   "execution_count": null,
   "id": "66052378",
   "metadata": {},
   "outputs": [],
   "source": []
  }
 ],
 "metadata": {
  "kernelspec": {
   "display_name": "Python 3 (ipykernel)",
   "language": "python",
   "name": "python3"
  },
  "language_info": {
   "codemirror_mode": {
    "name": "ipython",
    "version": 3
   },
   "file_extension": ".py",
   "mimetype": "text/x-python",
   "name": "python",
   "nbconvert_exporter": "python",
   "pygments_lexer": "ipython3",
   "version": "3.9.13"
  }
 },
 "nbformat": 4,
 "nbformat_minor": 5
}
